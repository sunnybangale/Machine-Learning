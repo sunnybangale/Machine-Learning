{
 "cells": [
  {
   "cell_type": "code",
   "execution_count": 968,
   "metadata": {
    "collapsed": true
   },
   "outputs": [],
   "source": [
    "#import pandas library\n",
    "import numpy as np\n",
    "import pandas as pd\n",
    "from sklearn.metrics import accuracy_score, precision_score, recall_score, roc_auc_score\n",
    "from statistics import mean\n",
    "import warnings\n",
    "warnings.filterwarnings('ignore')"
   ]
  },
  {
   "cell_type": "code",
   "execution_count": 872,
   "metadata": {
    "collapsed": true
   },
   "outputs": [],
   "source": [
    "#read the data from the url\n",
    "dataFrame = pd.read_csv(\"https://archive.ics.uci.edu/ml/machine-learning-databases/car/car.data\", names=['buying','maint','doors','persons','lug_boot','safety','class'] )"
   ]
  },
  {
   "cell_type": "code",
   "execution_count": 873,
   "metadata": {},
   "outputs": [
    {
     "data": {
      "text/html": [
       "<div>\n",
       "<style>\n",
       "    .dataframe thead tr:only-child th {\n",
       "        text-align: right;\n",
       "    }\n",
       "\n",
       "    .dataframe thead th {\n",
       "        text-align: left;\n",
       "    }\n",
       "\n",
       "    .dataframe tbody tr th {\n",
       "        vertical-align: top;\n",
       "    }\n",
       "</style>\n",
       "<table border=\"1\" class=\"dataframe\">\n",
       "  <thead>\n",
       "    <tr style=\"text-align: right;\">\n",
       "      <th></th>\n",
       "      <th>buying</th>\n",
       "      <th>maint</th>\n",
       "      <th>doors</th>\n",
       "      <th>persons</th>\n",
       "      <th>lug_boot</th>\n",
       "      <th>safety</th>\n",
       "      <th>class</th>\n",
       "    </tr>\n",
       "  </thead>\n",
       "  <tbody>\n",
       "    <tr>\n",
       "      <th>0</th>\n",
       "      <td>vhigh</td>\n",
       "      <td>vhigh</td>\n",
       "      <td>2</td>\n",
       "      <td>2</td>\n",
       "      <td>small</td>\n",
       "      <td>low</td>\n",
       "      <td>unacc</td>\n",
       "    </tr>\n",
       "    <tr>\n",
       "      <th>1</th>\n",
       "      <td>vhigh</td>\n",
       "      <td>vhigh</td>\n",
       "      <td>2</td>\n",
       "      <td>2</td>\n",
       "      <td>small</td>\n",
       "      <td>med</td>\n",
       "      <td>unacc</td>\n",
       "    </tr>\n",
       "    <tr>\n",
       "      <th>2</th>\n",
       "      <td>vhigh</td>\n",
       "      <td>vhigh</td>\n",
       "      <td>2</td>\n",
       "      <td>2</td>\n",
       "      <td>small</td>\n",
       "      <td>high</td>\n",
       "      <td>unacc</td>\n",
       "    </tr>\n",
       "    <tr>\n",
       "      <th>3</th>\n",
       "      <td>vhigh</td>\n",
       "      <td>vhigh</td>\n",
       "      <td>2</td>\n",
       "      <td>2</td>\n",
       "      <td>med</td>\n",
       "      <td>low</td>\n",
       "      <td>unacc</td>\n",
       "    </tr>\n",
       "    <tr>\n",
       "      <th>4</th>\n",
       "      <td>vhigh</td>\n",
       "      <td>vhigh</td>\n",
       "      <td>2</td>\n",
       "      <td>2</td>\n",
       "      <td>med</td>\n",
       "      <td>med</td>\n",
       "      <td>unacc</td>\n",
       "    </tr>\n",
       "  </tbody>\n",
       "</table>\n",
       "</div>"
      ],
      "text/plain": [
       "  buying  maint doors persons lug_boot safety  class\n",
       "0  vhigh  vhigh     2       2    small    low  unacc\n",
       "1  vhigh  vhigh     2       2    small    med  unacc\n",
       "2  vhigh  vhigh     2       2    small   high  unacc\n",
       "3  vhigh  vhigh     2       2      med    low  unacc\n",
       "4  vhigh  vhigh     2       2      med    med  unacc"
      ]
     },
     "execution_count": 873,
     "metadata": {},
     "output_type": "execute_result"
    }
   ],
   "source": [
    "dataFrame.head()"
   ]
  },
  {
   "cell_type": "code",
   "execution_count": 874,
   "metadata": {},
   "outputs": [
    {
     "data": {
      "text/html": [
       "<div>\n",
       "<style>\n",
       "    .dataframe thead tr:only-child th {\n",
       "        text-align: right;\n",
       "    }\n",
       "\n",
       "    .dataframe thead th {\n",
       "        text-align: left;\n",
       "    }\n",
       "\n",
       "    .dataframe tbody tr th {\n",
       "        vertical-align: top;\n",
       "    }\n",
       "</style>\n",
       "<table border=\"1\" class=\"dataframe\">\n",
       "  <thead>\n",
       "    <tr style=\"text-align: right;\">\n",
       "      <th></th>\n",
       "      <th>buying</th>\n",
       "      <th>maint</th>\n",
       "      <th>doors</th>\n",
       "      <th>persons</th>\n",
       "      <th>lug_boot</th>\n",
       "      <th>safety</th>\n",
       "      <th>class</th>\n",
       "    </tr>\n",
       "  </thead>\n",
       "  <tbody>\n",
       "    <tr>\n",
       "      <th>count</th>\n",
       "      <td>1728</td>\n",
       "      <td>1728</td>\n",
       "      <td>1728</td>\n",
       "      <td>1728</td>\n",
       "      <td>1728</td>\n",
       "      <td>1728</td>\n",
       "      <td>1728</td>\n",
       "    </tr>\n",
       "    <tr>\n",
       "      <th>unique</th>\n",
       "      <td>4</td>\n",
       "      <td>4</td>\n",
       "      <td>4</td>\n",
       "      <td>3</td>\n",
       "      <td>3</td>\n",
       "      <td>3</td>\n",
       "      <td>4</td>\n",
       "    </tr>\n",
       "    <tr>\n",
       "      <th>top</th>\n",
       "      <td>med</td>\n",
       "      <td>med</td>\n",
       "      <td>5more</td>\n",
       "      <td>more</td>\n",
       "      <td>med</td>\n",
       "      <td>med</td>\n",
       "      <td>unacc</td>\n",
       "    </tr>\n",
       "    <tr>\n",
       "      <th>freq</th>\n",
       "      <td>432</td>\n",
       "      <td>432</td>\n",
       "      <td>432</td>\n",
       "      <td>576</td>\n",
       "      <td>576</td>\n",
       "      <td>576</td>\n",
       "      <td>1210</td>\n",
       "    </tr>\n",
       "  </tbody>\n",
       "</table>\n",
       "</div>"
      ],
      "text/plain": [
       "       buying maint  doors persons lug_boot safety  class\n",
       "count    1728  1728   1728    1728     1728   1728   1728\n",
       "unique      4     4      4       3        3      3      4\n",
       "top       med   med  5more    more      med    med  unacc\n",
       "freq      432   432    432     576      576    576   1210"
      ]
     },
     "execution_count": 874,
     "metadata": {},
     "output_type": "execute_result"
    }
   ],
   "source": [
    "dataFrame.describe()"
   ]
  },
  {
   "cell_type": "code",
   "execution_count": 875,
   "metadata": {
    "collapsed": true
   },
   "outputs": [],
   "source": [
    "#import preprocessing library \n",
    "from sklearn import preprocessing"
   ]
  },
  {
   "cell_type": "code",
   "execution_count": 876,
   "metadata": {
    "collapsed": true
   },
   "outputs": [],
   "source": [
    "labelEncoder = preprocessing.LabelEncoder()"
   ]
  },
  {
   "cell_type": "code",
   "execution_count": 877,
   "metadata": {},
   "outputs": [
    {
     "data": {
      "text/plain": [
       "LabelEncoder()"
      ]
     },
     "execution_count": 877,
     "metadata": {},
     "output_type": "execute_result"
    }
   ],
   "source": [
    "#preprocess each and every attribute of the data\n",
    "labelEncoder.fit(dataFrame['buying'])\n",
    "labelEncoder.fit(dataFrame['maint'])\n",
    "labelEncoder.fit(dataFrame['doors'])\n",
    "labelEncoder.fit(dataFrame['persons'])\n",
    "labelEncoder.fit(dataFrame['lug_boot'])\n",
    "labelEncoder.fit(dataFrame['safety'])\n",
    "labelEncoder.fit(dataFrame['class'])"
   ]
  },
  {
   "cell_type": "code",
   "execution_count": 878,
   "metadata": {
    "collapsed": true
   },
   "outputs": [],
   "source": [
    "dataFrame['buying'] = labelEncoder.fit_transform(dataFrame['buying'])\n",
    "dataFrame['maint'] = labelEncoder.fit_transform(dataFrame['maint'])\n",
    "dataFrame['doors'] = labelEncoder.fit_transform(dataFrame['doors'])\n",
    "dataFrame['persons'] = labelEncoder.fit_transform(dataFrame['persons'])\n",
    "dataFrame['lug_boot'] = labelEncoder.fit_transform(dataFrame['lug_boot'])\n",
    "dataFrame['safety'] = labelEncoder.fit_transform(dataFrame['safety'])\n",
    "dataFrame['class'] = labelEncoder.fit_transform(dataFrame['class'])"
   ]
  },
  {
   "cell_type": "code",
   "execution_count": 879,
   "metadata": {},
   "outputs": [
    {
     "name": "stdout",
     "output_type": "stream",
     "text": [
      "      buying  maint  doors  persons  lug_boot  safety  class\n",
      "0          3      3      0        0         2       1      2\n",
      "1          3      3      0        0         2       2      2\n",
      "2          3      3      0        0         2       0      2\n",
      "3          3      3      0        0         1       1      2\n",
      "4          3      3      0        0         1       2      2\n",
      "5          3      3      0        0         1       0      2\n",
      "6          3      3      0        0         0       1      2\n",
      "7          3      3      0        0         0       2      2\n",
      "8          3      3      0        0         0       0      2\n",
      "9          3      3      0        1         2       1      2\n",
      "10         3      3      0        1         2       2      2\n",
      "11         3      3      0        1         2       0      2\n",
      "12         3      3      0        1         1       1      2\n",
      "13         3      3      0        1         1       2      2\n",
      "14         3      3      0        1         1       0      2\n",
      "15         3      3      0        1         0       1      2\n",
      "16         3      3      0        1         0       2      2\n",
      "17         3      3      0        1         0       0      2\n",
      "18         3      3      0        2         2       1      2\n",
      "19         3      3      0        2         2       2      2\n",
      "20         3      3      0        2         2       0      2\n",
      "21         3      3      0        2         1       1      2\n",
      "22         3      3      0        2         1       2      2\n",
      "23         3      3      0        2         1       0      2\n",
      "24         3      3      0        2         0       1      2\n",
      "25         3      3      0        2         0       2      2\n",
      "26         3      3      0        2         0       0      2\n",
      "27         3      3      1        0         2       1      2\n",
      "28         3      3      1        0         2       2      2\n",
      "29         3      3      1        0         2       0      2\n",
      "...      ...    ...    ...      ...       ...     ...    ...\n",
      "1698       1      1      2        2         0       1      2\n",
      "1699       1      1      2        2         0       2      1\n",
      "1700       1      1      2        2         0       0      3\n",
      "1701       1      1      3        0         2       1      2\n",
      "1702       1      1      3        0         2       2      2\n",
      "1703       1      1      3        0         2       0      2\n",
      "1704       1      1      3        0         1       1      2\n",
      "1705       1      1      3        0         1       2      2\n",
      "1706       1      1      3        0         1       0      2\n",
      "1707       1      1      3        0         0       1      2\n",
      "1708       1      1      3        0         0       2      2\n",
      "1709       1      1      3        0         0       0      2\n",
      "1710       1      1      3        1         2       1      2\n",
      "1711       1      1      3        1         2       2      0\n",
      "1712       1      1      3        1         2       0      1\n",
      "1713       1      1      3        1         1       1      2\n",
      "1714       1      1      3        1         1       2      1\n",
      "1715       1      1      3        1         1       0      3\n",
      "1716       1      1      3        1         0       1      2\n",
      "1717       1      1      3        1         0       2      1\n",
      "1718       1      1      3        1         0       0      3\n",
      "1719       1      1      3        2         2       1      2\n",
      "1720       1      1      3        2         2       2      0\n",
      "1721       1      1      3        2         2       0      1\n",
      "1722       1      1      3        2         1       1      2\n",
      "1723       1      1      3        2         1       2      1\n",
      "1724       1      1      3        2         1       0      3\n",
      "1725       1      1      3        2         0       1      2\n",
      "1726       1      1      3        2         0       2      1\n",
      "1727       1      1      3        2         0       0      3\n",
      "\n",
      "[1728 rows x 7 columns]\n"
     ]
    }
   ],
   "source": [
    "print(dataFrame)"
   ]
  },
  {
   "cell_type": "code",
   "execution_count": 880,
   "metadata": {
    "collapsed": true
   },
   "outputs": [],
   "source": [
    "#create input and output variables \n",
    "X = dataFrame.iloc[:,:-1]\n",
    "y = dataFrame['class']\n",
    "#print(X)\n",
    "#print(y)"
   ]
  },
  {
   "cell_type": "code",
   "execution_count": null,
   "metadata": {
    "collapsed": true
   },
   "outputs": [],
   "source": []
  },
  {
   "cell_type": "code",
   "execution_count": 976,
   "metadata": {},
   "outputs": [
    {
     "data": {
      "text/plain": [
       "DecisionTreeClassifier(class_weight=None, criterion='entropy', max_depth=15,\n",
       "            max_features=5, max_leaf_nodes=80, min_impurity_split=1e-07,\n",
       "            min_samples_leaf=1, min_samples_split=2,\n",
       "            min_weight_fraction_leaf=0.0, presort=False, random_state=100,\n",
       "            splitter='best')"
      ]
     },
     "execution_count": 976,
     "metadata": {},
     "output_type": "execute_result"
    }
   ],
   "source": [
    "#import Decision Tree Classifier from sklearn.............\n",
    "from sklearn.tree import DecisionTreeClassifier\n",
    "from sklearn import tree\n",
    "DecisionTree = DecisionTreeClassifier(criterion = \"entropy\", max_features = 5,\n",
    "                                    random_state = 100, max_depth=15, max_leaf_nodes=80)\n",
    "DecisionTree.fit(X, y)"
   ]
  },
  {
   "cell_type": "code",
   "execution_count": 977,
   "metadata": {},
   "outputs": [
    {
     "name": "stdout",
     "output_type": "stream",
     "text": [
      "[2 2 2 ..., 2 1 3]\n"
     ]
    }
   ],
   "source": [
    "Y_prediction = DecisionTree.predict(X)\n",
    "print(Y_prediction)"
   ]
  },
  {
   "cell_type": "code",
   "execution_count": 978,
   "metadata": {},
   "outputs": [
    {
     "name": "stdout",
     "output_type": "stream",
     "text": [
      "Accuracy is  99.4791666667\n"
     ]
    }
   ],
   "source": [
    "accuracy = accuracy_score(y,Y_prediction)*100\n",
    "print( \"Accuracy is \", accuracy)"
   ]
  },
  {
   "cell_type": "code",
   "execution_count": 979,
   "metadata": {},
   "outputs": [
    {
     "name": "stdout",
     "output_type": "stream",
     "text": [
      "Scores for Decision Tree\n",
      "[ 0.94797688  1.          0.98843931  0.97109827  0.98843931  0.95375723\n",
      "  0.97687861  0.98843931  0.97674419  0.97674419]\n",
      "Average Accuracy:  97.6851727383\n"
     ]
    }
   ],
   "source": [
    "from sklearn.cross_validation import KFold, cross_val_score\n",
    "\n",
    "k_fold = KFold(len(X), n_folds=10, shuffle=True, random_state=100)\n",
    "\n",
    "print(\"Scores for Decision Tree\")\n",
    "crossValArray = cross_val_score(DecisionTree, X, y, cv=k_fold, n_jobs=1)\n",
    "print(crossValArray)\n",
    "\n",
    "MeanDecisionTree = mean(crossValArray)\n",
    "print(\"Average Accuracy: \", MeanDecisionTree*100)\n"
   ]
  },
  {
   "cell_type": "code",
   "execution_count": 980,
   "metadata": {},
   "outputs": [
    {
     "name": "stdout",
     "output_type": "stream",
     "text": [
      "Precision Score\n",
      "0.994872148801\n"
     ]
    }
   ],
   "source": [
    "print(\"Precision Score\")\n",
    "precision = precision_score(y,Y_prediction,average='weighted')\n",
    "print(precision)"
   ]
  },
  {
   "cell_type": "code",
   "execution_count": null,
   "metadata": {
    "collapsed": true
   },
   "outputs": [],
   "source": []
  },
  {
   "cell_type": "code",
   "execution_count": 981,
   "metadata": {},
   "outputs": [
    {
     "data": {
      "text/plain": [
       "Perceptron(alpha=0.0001, class_weight=None, eta0=1.0, fit_intercept=True,\n",
       "      n_iter=20, n_jobs=1, penalty=None, random_state=100, shuffle=True,\n",
       "      verbose=0, warm_start=False)"
      ]
     },
     "execution_count": 981,
     "metadata": {},
     "output_type": "execute_result"
    }
   ],
   "source": [
    "#import Perceptron Classifier from sklearn......................\n",
    "from sklearn.linear_model import Perceptron\n",
    "Perceptron = Perceptron(n_iter=20,shuffle=True,random_state=100, n_jobs=1)\n",
    "Perceptron.fit(X,y)"
   ]
  },
  {
   "cell_type": "code",
   "execution_count": 982,
   "metadata": {},
   "outputs": [
    {
     "name": "stdout",
     "output_type": "stream",
     "text": [
      "[2 2 2 ..., 2 2 3]\n"
     ]
    }
   ],
   "source": [
    "Y_prediction = Perceptron.predict(X)\n",
    "print(Y_prediction)"
   ]
  },
  {
   "cell_type": "code",
   "execution_count": 983,
   "metadata": {},
   "outputs": [
    {
     "name": "stdout",
     "output_type": "stream",
     "text": [
      "Accuracy is  66.9560185185\n"
     ]
    }
   ],
   "source": [
    "accuracy = accuracy_score(y,Y_prediction)*100\n",
    "print( \"Accuracy is \", accuracy)"
   ]
  },
  {
   "cell_type": "code",
   "execution_count": 984,
   "metadata": {},
   "outputs": [
    {
     "name": "stdout",
     "output_type": "stream",
     "text": [
      "Scores for Perceptron\n",
      "[ 0.68786127  0.77456647  0.71098266  0.68786127  0.65895954  0.6416185\n",
      "  0.71098266  0.69942197  0.72674419  0.69767442]\n",
      "Average Accuracy:  69.9667293991\n"
     ]
    }
   ],
   "source": [
    "from sklearn.cross_validation import KFold, cross_val_score\n",
    "\n",
    "k_fold = KFold(len(X), n_folds=10, shuffle=True, random_state=100)\n",
    "\n",
    "print(\"Scores for Perceptron\")\n",
    "crossValArray = cross_val_score(Perceptron, X, y, cv=k_fold, n_jobs=1)\n",
    "print(crossValArray)\n",
    "\n",
    "MeanPerceptron = mean(crossValArray)\n",
    "print(\"Average Accuracy: \", MeanPerceptron*100)\n"
   ]
  },
  {
   "cell_type": "code",
   "execution_count": 985,
   "metadata": {},
   "outputs": [
    {
     "name": "stdout",
     "output_type": "stream",
     "text": [
      "Precision Score\n",
      "0.650476618883\n"
     ]
    }
   ],
   "source": [
    "print(\"Precision Score\")\n",
    "precision = precision_score(y,Y_prediction,average='weighted')\n",
    "print(precision)"
   ]
  },
  {
   "cell_type": "code",
   "execution_count": null,
   "metadata": {
    "collapsed": true
   },
   "outputs": [],
   "source": []
  },
  {
   "cell_type": "code",
   "execution_count": 986,
   "metadata": {},
   "outputs": [
    {
     "data": {
      "text/plain": [
       "MLPClassifier(activation='relu', alpha=0.0001, batch_size='auto', beta_1=0.9,\n",
       "       beta_2=0.999, early_stopping=False, epsilon=1e-08,\n",
       "       hidden_layer_sizes=20, learning_rate='constant',\n",
       "       learning_rate_init=0.001, max_iter=200, momentum=0.9,\n",
       "       nesterovs_momentum=True, power_t=0.5, random_state=100,\n",
       "       shuffle=True, solver='lbfgs', tol=0.0001, validation_fraction=0.1,\n",
       "       verbose=False, warm_start=False)"
      ]
     },
     "execution_count": 986,
     "metadata": {},
     "output_type": "execute_result"
    }
   ],
   "source": [
    "#import Multi Layer Perceptron Classifier for Neural Networks from sklearn...........\n",
    "from sklearn.neural_network import MLPClassifier\n",
    "NeuralNet = MLPClassifier(activation='relu', solver='lbfgs', hidden_layer_sizes=(20), learning_rate='constant',\n",
    "                          max_iter=200, shuffle=True, random_state=100)\n",
    "NeuralNet.fit(X,y)"
   ]
  },
  {
   "cell_type": "code",
   "execution_count": 987,
   "metadata": {
    "collapsed": true
   },
   "outputs": [],
   "source": [
    "#print(\"All coefficients of Neural Network: \")\n",
    "#print(NeuralNet.coefs_)"
   ]
  },
  {
   "cell_type": "code",
   "execution_count": 988,
   "metadata": {},
   "outputs": [
    {
     "name": "stdout",
     "output_type": "stream",
     "text": [
      "[2 2 2 ..., 2 1 3]\n"
     ]
    }
   ],
   "source": [
    "Y_prediction = NeuralNet.predict(X)\n",
    "print(Y_prediction)"
   ]
  },
  {
   "cell_type": "code",
   "execution_count": 989,
   "metadata": {},
   "outputs": [
    {
     "name": "stdout",
     "output_type": "stream",
     "text": [
      "Accuracy is  99.7106481481\n"
     ]
    }
   ],
   "source": [
    "accuracy = accuracy_score(y,Y_prediction)*100\n",
    "print( \"Accuracy is \", accuracy)"
   ]
  },
  {
   "cell_type": "code",
   "execution_count": 990,
   "metadata": {},
   "outputs": [
    {
     "name": "stdout",
     "output_type": "stream",
     "text": [
      "Scores for Neural Net\n",
      "[ 0.97687861  0.98843931  0.96531792  0.96531792  0.94797688  0.95375723\n",
      "  0.98265896  0.97109827  0.97093023  0.97674419]\n",
      "Average Accuracy:  96.9911950531\n"
     ]
    }
   ],
   "source": [
    "from sklearn.cross_validation import KFold, cross_val_score\n",
    "\n",
    "k_fold = KFold(len(X), n_folds=10, shuffle=True, random_state=100)\n",
    "\n",
    "print(\"Scores for Neural Net\")\n",
    "crossValArray = cross_val_score(NeuralNet, X, y, cv=k_fold, n_jobs=1)\n",
    "print(crossValArray)\n",
    "\n",
    "MeanNeuralNet = mean(crossValArray)\n",
    "print(\"Average Accuracy: \", MeanNeuralNet*100)\n"
   ]
  },
  {
   "cell_type": "code",
   "execution_count": 991,
   "metadata": {},
   "outputs": [
    {
     "name": "stdout",
     "output_type": "stream",
     "text": [
      "Precision Score\n",
      "0.997107649775\n"
     ]
    }
   ],
   "source": [
    "print(\"Precision Score\")\n",
    "precision = precision_score(y,Y_prediction,average='weighted')\n",
    "print(precision)"
   ]
  },
  {
   "cell_type": "code",
   "execution_count": null,
   "metadata": {
    "collapsed": true
   },
   "outputs": [],
   "source": []
  },
  {
   "cell_type": "code",
   "execution_count": 993,
   "metadata": {},
   "outputs": [
    {
     "data": {
      "text/plain": [
       "MLPClassifier(activation='tanh', alpha=0.0001, batch_size='auto', beta_1=0.9,\n",
       "       beta_2=0.999, early_stopping=False, epsilon=1e-08,\n",
       "       hidden_layer_sizes=(25, 40, 10, 20, 25, 10, 20),\n",
       "       learning_rate='constant', learning_rate_init=0.001, max_iter=600,\n",
       "       momentum=0.9, nesterovs_momentum=True, power_t=0.5,\n",
       "       random_state=100, shuffle=True, solver='lbfgs', tol=0.0001,\n",
       "       validation_fraction=0.1, verbose=False, warm_start=False)"
      ]
     },
     "execution_count": 993,
     "metadata": {},
     "output_type": "execute_result"
    }
   ],
   "source": [
    "#import Multi Layer Perceptron Classifier for Deep learning from sklearn...........\n",
    "from sklearn.neural_network import MLPClassifier\n",
    "DeepLearning = MLPClassifier(activation='tanh', solver='lbfgs', hidden_layer_sizes=(25,40,10,20,25,10,20),\n",
    "                            learning_rate='constant',  max_iter=600, shuffle=True, random_state=100)\n",
    "DeepLearning.fit(X,y)"
   ]
  },
  {
   "cell_type": "code",
   "execution_count": 994,
   "metadata": {
    "collapsed": true
   },
   "outputs": [],
   "source": [
    "#print(\"All coefficients of Neural Network: \")\n",
    "#print(DeepLearning.coefs_)"
   ]
  },
  {
   "cell_type": "code",
   "execution_count": 995,
   "metadata": {},
   "outputs": [
    {
     "name": "stdout",
     "output_type": "stream",
     "text": [
      "[2 2 2 ..., 2 1 3]\n"
     ]
    }
   ],
   "source": [
    "Y_prediction = DeepLearning.predict(X)\n",
    "print(Y_prediction)"
   ]
  },
  {
   "cell_type": "code",
   "execution_count": 996,
   "metadata": {},
   "outputs": [
    {
     "name": "stdout",
     "output_type": "stream",
     "text": [
      "Accuracy is  100.0\n"
     ]
    }
   ],
   "source": [
    "accuracy = accuracy_score(y,Y_prediction)*100\n",
    "print( \"Accuracy is \", accuracy)"
   ]
  },
  {
   "cell_type": "code",
   "execution_count": 997,
   "metadata": {},
   "outputs": [
    {
     "name": "stdout",
     "output_type": "stream",
     "text": [
      "Scores for Deep Learning\n",
      "[ 0.98843931  0.98265896  0.99421965  0.97109827  0.96531792  0.97109827\n",
      "  0.97109827  1.          0.95348837  0.97093023]\n",
      "Average Accuracy:  97.6834924049\n"
     ]
    }
   ],
   "source": [
    "from sklearn.cross_validation import KFold, cross_val_score\n",
    "\n",
    "k_fold = KFold(len(X), n_folds=10, shuffle=True, random_state=100)\n",
    "\n",
    "print(\"Scores for Deep Learning\")\n",
    "crossValArray = cross_val_score(DeepLearning, X, y, cv=k_fold, n_jobs=1)\n",
    "print(crossValArray)\n",
    "\n",
    "MeanDeepLearning = mean(crossValArray)\n",
    "print(\"Average Accuracy: \", MeanDeepLearning*100)\n"
   ]
  },
  {
   "cell_type": "code",
   "execution_count": 998,
   "metadata": {},
   "outputs": [
    {
     "name": "stdout",
     "output_type": "stream",
     "text": [
      "Precision Score\n",
      "1.0\n"
     ]
    }
   ],
   "source": [
    "print(\"Precision Score\")\n",
    "precision = precision_score(y,Y_prediction,average='weighted')\n",
    "print(precision)"
   ]
  },
  {
   "cell_type": "code",
   "execution_count": null,
   "metadata": {
    "collapsed": true
   },
   "outputs": [],
   "source": []
  },
  {
   "cell_type": "code",
   "execution_count": 999,
   "metadata": {},
   "outputs": [
    {
     "data": {
      "text/plain": [
       "LinearSVC(C=1.0, class_weight=None, dual=True, fit_intercept=True,\n",
       "     intercept_scaling=1, loss='squared_hinge', max_iter=500,\n",
       "     multi_class='crammer_singer', penalty='l2', random_state=100,\n",
       "     tol=0.0001, verbose=0)"
      ]
     },
     "execution_count": 999,
     "metadata": {},
     "output_type": "execute_result"
    }
   ],
   "source": [
    "#import Support Vector Machine from sklearn...........\n",
    "from sklearn.svm import LinearSVC\n",
    "SVM = LinearSVC(max_iter=500, multi_class =\"crammer_singer\", random_state=100, loss=\"squared_hinge\") \n",
    "SVM.fit(X,y)"
   ]
  },
  {
   "cell_type": "code",
   "execution_count": 1000,
   "metadata": {},
   "outputs": [
    {
     "name": "stdout",
     "output_type": "stream",
     "text": [
      "[2 2 2 ..., 2 2 3]\n"
     ]
    }
   ],
   "source": [
    "Y_prediction = SVM.predict(X)\n",
    "print(Y_prediction)"
   ]
  },
  {
   "cell_type": "code",
   "execution_count": 1001,
   "metadata": {},
   "outputs": [
    {
     "name": "stdout",
     "output_type": "stream",
     "text": [
      "Accuracy is  70.3703703704\n"
     ]
    }
   ],
   "source": [
    "accuracy = accuracy_score(y,Y_prediction)*100\n",
    "print( \"Accuracy is \", accuracy)"
   ]
  },
  {
   "cell_type": "code",
   "execution_count": 1002,
   "metadata": {},
   "outputs": [
    {
     "name": "stdout",
     "output_type": "stream",
     "text": [
      "Scores for SVM\n",
      "[ 0.69364162  0.73988439  0.71098266  0.70520231  0.66473988  0.67630058\n",
      "  0.71676301  0.70520231  0.72674419  0.70348837]\n",
      "Average Accuracy:  70.4294932115\n"
     ]
    }
   ],
   "source": [
    "from sklearn.cross_validation import KFold, cross_val_score\n",
    "\n",
    "k_fold = KFold(len(X), n_folds=10, shuffle=True, random_state=100)\n",
    "\n",
    "print(\"Scores for SVM\")\n",
    "crossValArray = cross_val_score(SVM, X, y, cv=k_fold, n_jobs=1)\n",
    "print(crossValArray)\n",
    "\n",
    "MeanSVM = mean(crossValArray)\n",
    "print(\"Average Accuracy: \", MeanSVM*100)\n"
   ]
  },
  {
   "cell_type": "code",
   "execution_count": 1003,
   "metadata": {},
   "outputs": [
    {
     "name": "stdout",
     "output_type": "stream",
     "text": [
      "Precision Score\n",
      "0.509504728804\n"
     ]
    }
   ],
   "source": [
    "print(\"Precision Score\")\n",
    "precision = precision_score(y,Y_prediction,average='weighted')\n",
    "print(precision)"
   ]
  },
  {
   "cell_type": "code",
   "execution_count": null,
   "metadata": {
    "collapsed": true
   },
   "outputs": [],
   "source": []
  },
  {
   "cell_type": "code",
   "execution_count": 1004,
   "metadata": {},
   "outputs": [
    {
     "data": {
      "text/plain": [
       "GaussianNB(priors=None)"
      ]
     },
     "execution_count": 1004,
     "metadata": {},
     "output_type": "execute_result"
    }
   ],
   "source": [
    "#import Naive Bayes from Gaussian NB sklearn...........\n",
    "from sklearn.naive_bayes import GaussianNB\n",
    "NaiveBayesGNB = GaussianNB(priors=None) \n",
    "NaiveBayesGNB.fit(X,y)\n"
   ]
  },
  {
   "cell_type": "code",
   "execution_count": 1005,
   "metadata": {},
   "outputs": [
    {
     "name": "stdout",
     "output_type": "stream",
     "text": [
      "[2 2 2 ..., 0 0 3]\n"
     ]
    }
   ],
   "source": [
    "Y_prediction = NaiveBayesGNB.predict(X)\n",
    "print(Y_prediction)"
   ]
  },
  {
   "cell_type": "code",
   "execution_count": 1006,
   "metadata": {},
   "outputs": [
    {
     "name": "stdout",
     "output_type": "stream",
     "text": [
      "Accuracy is  62.7314814815\n"
     ]
    }
   ],
   "source": [
    "accuracy = accuracy_score(y,Y_prediction)*100\n",
    "print( \"Accuracy is \", accuracy)"
   ]
  },
  {
   "cell_type": "code",
   "execution_count": 1007,
   "metadata": {},
   "outputs": [
    {
     "name": "stdout",
     "output_type": "stream",
     "text": [
      "Scores for Gaussian Naive Bayes \n",
      "[ 0.60115607  0.67630058  0.67052023  0.59537572  0.56647399  0.58959538\n",
      "  0.68208092  0.65317919  0.61046512  0.61627907]\n",
      "Average Accuracy:  62.6142626697\n"
     ]
    }
   ],
   "source": [
    "from sklearn.cross_validation import KFold, cross_val_score\n",
    "\n",
    "k_fold = KFold(len(X), n_folds=10, shuffle=True, random_state=100)\n",
    "\n",
    "print(\"Scores for Gaussian Naive Bayes \")\n",
    "crossValArray = cross_val_score(NaiveBayesGNB, X, y, cv=k_fold, n_jobs=1)\n",
    "print(crossValArray)\n",
    "\n",
    "MeanNaiveBayesGNB = mean(crossValArray)\n",
    "print(\"Average Accuracy: \", MeanNaiveBayesGNB*100)\n"
   ]
  },
  {
   "cell_type": "code",
   "execution_count": 1008,
   "metadata": {},
   "outputs": [
    {
     "name": "stdout",
     "output_type": "stream",
     "text": [
      "Precision Score\n",
      "0.718142731072\n"
     ]
    }
   ],
   "source": [
    "print(\"Precision Score\")\n",
    "precision = precision_score(y,Y_prediction,average='weighted')\n",
    "print(precision)"
   ]
  },
  {
   "cell_type": "code",
   "execution_count": null,
   "metadata": {
    "collapsed": true
   },
   "outputs": [],
   "source": []
  },
  {
   "cell_type": "code",
   "execution_count": 1009,
   "metadata": {},
   "outputs": [
    {
     "data": {
      "text/plain": [
       "MultinomialNB(alpha=1.0, class_prior=None, fit_prior=True)"
      ]
     },
     "execution_count": 1009,
     "metadata": {},
     "output_type": "execute_result"
    }
   ],
   "source": [
    "#import Naive Bayes from Multinomial NB sklearn...........\n",
    "from sklearn.naive_bayes import MultinomialNB\n",
    "NaiveBayesMNB = MultinomialNB(alpha=1.0, class_prior=None, fit_prior=True) \n",
    "NaiveBayesMNB.fit(X,y)"
   ]
  },
  {
   "cell_type": "code",
   "execution_count": 1010,
   "metadata": {},
   "outputs": [
    {
     "name": "stdout",
     "output_type": "stream",
     "text": [
      "[2 2 2 ..., 2 2 2]\n"
     ]
    }
   ],
   "source": [
    "Y_prediction = NaiveBayesMNB.predict(X)\n",
    "print(Y_prediction)"
   ]
  },
  {
   "cell_type": "code",
   "execution_count": 1011,
   "metadata": {},
   "outputs": [
    {
     "name": "stdout",
     "output_type": "stream",
     "text": [
      "Accuracy is  70.2546296296\n"
     ]
    }
   ],
   "source": [
    "accuracy = accuracy_score(y,Y_prediction)*100\n",
    "print( \"Accuracy is \", accuracy)"
   ]
  },
  {
   "cell_type": "code",
   "execution_count": 1012,
   "metadata": {},
   "outputs": [
    {
     "name": "stdout",
     "output_type": "stream",
     "text": [
      "Scores for Multinomial Naive Bayes \n",
      "[ 0.68786127  0.75144509  0.70520231  0.70520231  0.65895954  0.66473988\n",
      "  0.72254335  0.69364162  0.73255814  0.69186047]\n",
      "Average Accuracy:  70.1401398037\n"
     ]
    }
   ],
   "source": [
    "from sklearn.cross_validation import KFold, cross_val_score\n",
    "\n",
    "k_fold = KFold(len(X), n_folds=10, shuffle=True, random_state=100)\n",
    "\n",
    "print(\"Scores for Multinomial Naive Bayes \")\n",
    "crossValArray = cross_val_score(NaiveBayesMNB, X, y, cv=k_fold, n_jobs=1)\n",
    "print(crossValArray)\n",
    "\n",
    "MeanNaiveBayesMNB = mean(crossValArray)\n",
    "print(\"Average Accuracy: \", MeanNaiveBayesMNB*100)\n"
   ]
  },
  {
   "cell_type": "code",
   "execution_count": 1013,
   "metadata": {},
   "outputs": [
    {
     "name": "stdout",
     "output_type": "stream",
     "text": [
      "Precision Score\n",
      "0.633942928214\n"
     ]
    }
   ],
   "source": [
    "print(\"Precision Score\")\n",
    "precision = precision_score(y,Y_prediction,average='weighted')\n",
    "print(precision)"
   ]
  },
  {
   "cell_type": "code",
   "execution_count": null,
   "metadata": {
    "collapsed": true
   },
   "outputs": [],
   "source": []
  },
  {
   "cell_type": "code",
   "execution_count": 1014,
   "metadata": {},
   "outputs": [
    {
     "data": {
      "text/plain": [
       "BernoulliNB(alpha=1.0, binarize=0.0, class_prior=None, fit_prior=True)"
      ]
     },
     "execution_count": 1014,
     "metadata": {},
     "output_type": "execute_result"
    }
   ],
   "source": [
    "#import Naive Bayes from Bernoulli NB sklearn...........\n",
    "from sklearn.naive_bayes import BernoulliNB\n",
    "NaiveBayesBNB = BernoulliNB(alpha=1.0, class_prior=None, fit_prior=True) \n",
    "NaiveBayesBNB.fit(X,y)"
   ]
  },
  {
   "cell_type": "code",
   "execution_count": 1015,
   "metadata": {},
   "outputs": [
    {
     "name": "stdout",
     "output_type": "stream",
     "text": [
      "[2 2 2 ..., 2 2 0]\n"
     ]
    }
   ],
   "source": [
    "Y_prediction = NaiveBayesBNB.predict(X)\n",
    "print(Y_prediction)"
   ]
  },
  {
   "cell_type": "code",
   "execution_count": 1016,
   "metadata": {},
   "outputs": [
    {
     "name": "stdout",
     "output_type": "stream",
     "text": [
      "Accuracy is  76.7361111111\n"
     ]
    }
   ],
   "source": [
    "accuracy = accuracy_score(y,Y_prediction)*100\n",
    "print( \"Accuracy is \", accuracy)"
   ]
  },
  {
   "cell_type": "code",
   "execution_count": 1017,
   "metadata": {},
   "outputs": [
    {
     "name": "stdout",
     "output_type": "stream",
     "text": [
      "Scores for Bernoulli Naive Bayes \n",
      "[ 0.77456647  0.79768786  0.78612717  0.76878613  0.77456647  0.73988439\n",
      "  0.75144509  0.75144509  0.75581395  0.75581395]\n",
      "Average Accuracy:  76.561365775\n"
     ]
    }
   ],
   "source": [
    "from sklearn.cross_validation import KFold, cross_val_score\n",
    "\n",
    "k_fold = KFold(len(X), n_folds=10, shuffle=True, random_state=100)\n",
    "\n",
    "print(\"Scores for Bernoulli Naive Bayes \")\n",
    "crossValArray = cross_val_score(NaiveBayesBNB, X, y, cv=k_fold, n_jobs=1)\n",
    "print(crossValArray)\n",
    "\n",
    "MeanNaiveBayesBNB = mean(crossValArray)\n",
    "print(\"Average Accuracy: \", MeanNaiveBayesBNB*100)"
   ]
  },
  {
   "cell_type": "code",
   "execution_count": 1018,
   "metadata": {},
   "outputs": [
    {
     "name": "stdout",
     "output_type": "stream",
     "text": [
      "Precision Score\n",
      "0.697619506219\n"
     ]
    }
   ],
   "source": [
    "print(\"Precision Score\")\n",
    "precision = precision_score(y,Y_prediction,average='weighted')\n",
    "print(precision)"
   ]
  },
  {
   "cell_type": "code",
   "execution_count": null,
   "metadata": {
    "collapsed": true
   },
   "outputs": [],
   "source": []
  },
  {
   "cell_type": "code",
   "execution_count": 1020,
   "metadata": {},
   "outputs": [
    {
     "data": {
      "text/plain": [
       "LogisticRegression(C=1.0, class_weight=None, dual=False, fit_intercept=True,\n",
       "          intercept_scaling=1, max_iter=800, multi_class='ovr', n_jobs=1,\n",
       "          penalty='l2', random_state=150, solver='newton-cg', tol=0.0001,\n",
       "          verbose=0, warm_start=False)"
      ]
     },
     "execution_count": 1020,
     "metadata": {},
     "output_type": "execute_result"
    }
   ],
   "source": [
    "#import Logistic Regression Classifier from sklearn......................\n",
    "from sklearn.linear_model import LogisticRegression\n",
    "LogisticRegression = LogisticRegression(max_iter=800, multi_class='ovr', n_jobs=1,\n",
    "                                        random_state=150, solver='newton-cg')\n",
    "LogisticRegression.fit(X,y)"
   ]
  },
  {
   "cell_type": "code",
   "execution_count": 1021,
   "metadata": {},
   "outputs": [
    {
     "name": "stdout",
     "output_type": "stream",
     "text": [
      "[2 2 2 ..., 0 0 0]\n"
     ]
    }
   ],
   "source": [
    "Y_prediction = LogisticRegression.predict(X)\n",
    "print(Y_prediction)"
   ]
  },
  {
   "cell_type": "code",
   "execution_count": 1022,
   "metadata": {},
   "outputs": [
    {
     "name": "stdout",
     "output_type": "stream",
     "text": [
      "Accuracy is  69.7916666667\n"
     ]
    }
   ],
   "source": [
    "accuracy = accuracy_score(y,Y_prediction)*100\n",
    "print( \"Accuracy is \", accuracy)"
   ]
  },
  {
   "cell_type": "code",
   "execution_count": 1023,
   "metadata": {},
   "outputs": [
    {
     "name": "stdout",
     "output_type": "stream",
     "text": [
      "Scores for Logistic Regression \n",
      "[ 0.67630058  0.73988439  0.69942197  0.69364162  0.67630058  0.61849711\n",
      "  0.70520231  0.69942197  0.71511628  0.72674419]\n",
      "Average Accuracy:  69.5053098535\n"
     ]
    }
   ],
   "source": [
    "from sklearn.cross_validation import KFold, cross_val_score\n",
    "\n",
    "k_fold = KFold(len(X), n_folds=10, shuffle=True, random_state=100)\n",
    "\n",
    "print(\"Scores for Logistic Regression \")\n",
    "crossValArray = cross_val_score(LogisticRegression, X, y, cv=k_fold, n_jobs=1)\n",
    "print(crossValArray)\n",
    "\n",
    "MeanLogisticRegression = mean(crossValArray)\n",
    "print(\"Average Accuracy: \", MeanLogisticRegression*100)\n",
    "\n"
   ]
  },
  {
   "cell_type": "code",
   "execution_count": 1024,
   "metadata": {},
   "outputs": [
    {
     "name": "stdout",
     "output_type": "stream",
     "text": [
      "Precision Score\n",
      "0.61538262969\n"
     ]
    }
   ],
   "source": [
    "print(\"Precision Score\")\n",
    "precision = precision_score(y,Y_prediction,average='weighted')\n",
    "print(precision)"
   ]
  },
  {
   "cell_type": "code",
   "execution_count": null,
   "metadata": {
    "collapsed": true
   },
   "outputs": [],
   "source": []
  },
  {
   "cell_type": "code",
   "execution_count": 1025,
   "metadata": {},
   "outputs": [
    {
     "data": {
      "text/plain": [
       "KNeighborsClassifier(algorithm='auto', leaf_size=30, metric='minkowski',\n",
       "           metric_params=None, n_jobs=1, n_neighbors=10, p=2,\n",
       "           weights='uniform')"
      ]
     },
     "execution_count": 1025,
     "metadata": {},
     "output_type": "execute_result"
    }
   ],
   "source": [
    "#import K-Nearest Neighbour Classifier from sklearn......................\n",
    "from sklearn.neighbors import KNeighborsClassifier\n",
    "KNearestNeighbors = KNeighborsClassifier(algorithm='auto',n_neighbors=10, n_jobs=1, metric='minkowski')\n",
    "KNearestNeighbors.fit(X,y)\n"
   ]
  },
  {
   "cell_type": "code",
   "execution_count": 1026,
   "metadata": {},
   "outputs": [
    {
     "name": "stdout",
     "output_type": "stream",
     "text": [
      "[2 2 2 ..., 0 0 0]\n"
     ]
    }
   ],
   "source": [
    "Y_prediction = LogisticRegression.predict(X)\n",
    "print(Y_prediction)"
   ]
  },
  {
   "cell_type": "code",
   "execution_count": 1027,
   "metadata": {},
   "outputs": [
    {
     "name": "stdout",
     "output_type": "stream",
     "text": [
      "Accuracy is  69.7916666667\n"
     ]
    }
   ],
   "source": [
    "accuracy = accuracy_score(y,Y_prediction)*100\n",
    "print( \"Accuracy is \", accuracy)"
   ]
  },
  {
   "cell_type": "code",
   "execution_count": 1028,
   "metadata": {},
   "outputs": [
    {
     "name": "stdout",
     "output_type": "stream",
     "text": [
      "Scores for K Nearest Neighbors\n",
      "[ 0.9132948   0.91907514  0.93063584  0.89017341  0.92485549  0.88439306\n",
      "  0.96531792  0.91907514  0.88953488  0.9127907 ]\n",
      "Average Accuracy:  91.4914639064\n"
     ]
    }
   ],
   "source": [
    "from sklearn.cross_validation import KFold, cross_val_score\n",
    "\n",
    "k_fold = KFold(len(X), n_folds=10, shuffle=True, random_state=100)\n",
    "\n",
    "print(\"Scores for K Nearest Neighbors\")\n",
    "crossValArray = cross_val_score(KNearestNeighbors, X, y, cv=k_fold, n_jobs=1)\n",
    "print(crossValArray)\n",
    "\n",
    "MeanKNearestNeighbor = mean(crossValArray)\n",
    "print(\"Average Accuracy: \", MeanKNearestNeighbor*100)\n"
   ]
  },
  {
   "cell_type": "code",
   "execution_count": 1029,
   "metadata": {},
   "outputs": [
    {
     "name": "stdout",
     "output_type": "stream",
     "text": [
      "Precision Score\n",
      "0.61538262969\n"
     ]
    }
   ],
   "source": [
    "print(\"Precision Score\")\n",
    "precision = precision_score(y,Y_prediction,average='weighted')\n",
    "print(precision)"
   ]
  },
  {
   "cell_type": "code",
   "execution_count": null,
   "metadata": {
    "collapsed": true
   },
   "outputs": [],
   "source": []
  },
  {
   "cell_type": "code",
   "execution_count": 1030,
   "metadata": {},
   "outputs": [
    {
     "data": {
      "text/plain": [
       "BaggingClassifier(base_estimator=None, bootstrap=False,\n",
       "         bootstrap_features=False, max_features=1.0, max_samples=1.0,\n",
       "         n_estimators=10, n_jobs=1, oob_score=False, random_state=150,\n",
       "         verbose=0, warm_start=False)"
      ]
     },
     "execution_count": 1030,
     "metadata": {},
     "output_type": "execute_result"
    }
   ],
   "source": [
    "#import Bagging Classifier from sklearn......................\n",
    "from sklearn.ensemble import BaggingClassifier\n",
    "Bagging = BaggingClassifier(bootstrap=False, max_features=1.0, max_samples=1.0, n_jobs=1, random_state=150)\n",
    "Bagging.fit(X,y)"
   ]
  },
  {
   "cell_type": "code",
   "execution_count": 1031,
   "metadata": {},
   "outputs": [
    {
     "name": "stdout",
     "output_type": "stream",
     "text": [
      "[2 2 2 ..., 2 1 3]\n"
     ]
    }
   ],
   "source": [
    "Y_prediction = Bagging.predict(X)\n",
    "print(Y_prediction)"
   ]
  },
  {
   "cell_type": "code",
   "execution_count": 1032,
   "metadata": {},
   "outputs": [
    {
     "name": "stdout",
     "output_type": "stream",
     "text": [
      "Accuracy is  100.0\n"
     ]
    }
   ],
   "source": [
    "accuracy = accuracy_score(y,Y_prediction)*100\n",
    "print( \"Accuracy is \", accuracy)"
   ]
  },
  {
   "cell_type": "code",
   "execution_count": 1033,
   "metadata": {},
   "outputs": [
    {
     "name": "stdout",
     "output_type": "stream",
     "text": [
      "Scores for Bagging\n",
      "[ 0.97109827  0.99421965  0.99421965  0.97687861  0.98843931  0.97687861\n",
      "  0.97687861  0.98843931  1.          0.97674419]\n",
      "Average Accuracy:  98.4379620917\n"
     ]
    }
   ],
   "source": [
    "from sklearn.cross_validation import KFold, cross_val_score\n",
    "\n",
    "k_fold = KFold(len(X), n_folds=10, shuffle=True, random_state=100)\n",
    "print(\"Scores for Bagging\")\n",
    "crossValArray = cross_val_score(Bagging, X, y, cv=k_fold, n_jobs=1)\n",
    "print(crossValArray)\n",
    "\n",
    "MeanBagging = mean(crossValArray)\n",
    "print(\"Average Accuracy: \", MeanBagging*100)"
   ]
  },
  {
   "cell_type": "code",
   "execution_count": 1034,
   "metadata": {},
   "outputs": [
    {
     "name": "stdout",
     "output_type": "stream",
     "text": [
      "Precision Score\n",
      "1.0\n"
     ]
    }
   ],
   "source": [
    "print(\"Precision Score\")\n",
    "precision = precision_score(y,Y_prediction,average='weighted')\n",
    "print(precision)"
   ]
  },
  {
   "cell_type": "code",
   "execution_count": null,
   "metadata": {
    "collapsed": true
   },
   "outputs": [],
   "source": []
  },
  {
   "cell_type": "code",
   "execution_count": 1035,
   "metadata": {},
   "outputs": [
    {
     "data": {
      "text/plain": [
       "RandomForestClassifier(bootstrap=True, class_weight=None, criterion='gini',\n",
       "            max_depth=20, max_features=4, max_leaf_nodes=35,\n",
       "            min_impurity_split=1e-07, min_samples_leaf=1,\n",
       "            min_samples_split=2, min_weight_fraction_leaf=0.0,\n",
       "            n_estimators=10, n_jobs=1, oob_score=False, random_state=100,\n",
       "            verbose=0, warm_start=False)"
      ]
     },
     "execution_count": 1035,
     "metadata": {},
     "output_type": "execute_result"
    }
   ],
   "source": [
    "#import Random Forest Classifier from sklearn......................\n",
    "from sklearn.ensemble import RandomForestClassifier\n",
    "RandomForest = RandomForestClassifier(bootstrap=True,criterion='gini', max_features = 4, \n",
    "                                    random_state = 100, max_depth=20, max_leaf_nodes=35)\n",
    "RandomForest.fit(X,y)"
   ]
  },
  {
   "cell_type": "code",
   "execution_count": 1036,
   "metadata": {},
   "outputs": [
    {
     "name": "stdout",
     "output_type": "stream",
     "text": [
      "[2 2 2 ..., 2 1 3]\n"
     ]
    }
   ],
   "source": [
    "Y_prediction = RandomForest.predict(X)\n",
    "print(Y_prediction)"
   ]
  },
  {
   "cell_type": "code",
   "execution_count": 1037,
   "metadata": {},
   "outputs": [
    {
     "name": "stdout",
     "output_type": "stream",
     "text": [
      "Accuracy is  97.2222222222\n"
     ]
    }
   ],
   "source": [
    "accuracy = accuracy_score(y,Y_prediction)*100\n",
    "print( \"Accuracy is \", accuracy)"
   ]
  },
  {
   "cell_type": "code",
   "execution_count": 1038,
   "metadata": {},
   "outputs": [
    {
     "name": "stdout",
     "output_type": "stream",
     "text": [
      "Scores for Random Forest\n",
      "[ 0.95953757  0.97687861  0.93063584  0.93641618  0.97109827  0.96531792\n",
      "  0.92485549  0.97687861  0.94767442  0.97093023]\n",
      "Average Accuracy:  95.6022314827\n"
     ]
    }
   ],
   "source": [
    "from sklearn.cross_validation import KFold, cross_val_score\n",
    "\n",
    "k_fold = KFold(len(X), n_folds=10, shuffle=True, random_state=100)\n",
    "\n",
    "print(\"Scores for Random Forest\")\n",
    "crossValArray = cross_val_score(RandomForest, X, y, cv=k_fold, n_jobs=1)\n",
    "print(crossValArray)\n",
    "\n",
    "MeanRandomForest = mean(crossValArray)\n",
    "print(\"Average Accuracy: \", MeanRandomForest*100)"
   ]
  },
  {
   "cell_type": "code",
   "execution_count": 1039,
   "metadata": {},
   "outputs": [
    {
     "name": "stdout",
     "output_type": "stream",
     "text": [
      "Precision Score\n",
      "0.974105811152\n"
     ]
    }
   ],
   "source": [
    "print(\"Precision Score\")\n",
    "precision = precision_score(y,Y_prediction,average='weighted')\n",
    "print(precision)"
   ]
  },
  {
   "cell_type": "code",
   "execution_count": null,
   "metadata": {
    "collapsed": true
   },
   "outputs": [],
   "source": []
  },
  {
   "cell_type": "code",
   "execution_count": 1040,
   "metadata": {},
   "outputs": [
    {
     "data": {
      "text/plain": [
       "AdaBoostClassifier(algorithm='SAMME', base_estimator=None, learning_rate=0.5,\n",
       "          n_estimators=200, random_state=100)"
      ]
     },
     "execution_count": 1040,
     "metadata": {},
     "output_type": "execute_result"
    }
   ],
   "source": [
    "#import AdaBoost Classifier from sklearn......................\n",
    "from sklearn.ensemble import AdaBoostClassifier\n",
    "AdaBoost = AdaBoostClassifier(algorithm='SAMME',learning_rate=0.5, n_estimators=200, random_state=100 )\n",
    "AdaBoost.fit(X,y)"
   ]
  },
  {
   "cell_type": "code",
   "execution_count": 1041,
   "metadata": {},
   "outputs": [
    {
     "name": "stdout",
     "output_type": "stream",
     "text": [
      "[2 2 2 ..., 2 0 0]\n"
     ]
    }
   ],
   "source": [
    "Y_prediction = AdaBoost.predict(X)\n",
    "print(Y_prediction)"
   ]
  },
  {
   "cell_type": "code",
   "execution_count": 1042,
   "metadata": {},
   "outputs": [
    {
     "name": "stdout",
     "output_type": "stream",
     "text": [
      "Accuracy is  85.7638888889\n"
     ]
    }
   ],
   "source": [
    "accuracy = accuracy_score(y,Y_prediction)*100\n",
    "print( \"Accuracy is \", accuracy)"
   ]
  },
  {
   "cell_type": "code",
   "execution_count": 1043,
   "metadata": {},
   "outputs": [
    {
     "name": "stdout",
     "output_type": "stream",
     "text": [
      "Scores for AdaBoost\n",
      "[ 0.85549133  0.87283237  0.86127168  0.84971098  0.84971098  0.8150289\n",
      "  0.86705202  0.88439306  0.87790698  0.85465116]\n",
      "Average Accuracy:  85.8804946901\n"
     ]
    }
   ],
   "source": [
    "from sklearn.cross_validation import KFold, cross_val_score\n",
    "\n",
    "k_fold = KFold(len(X), n_folds=10, shuffle=True, random_state=100)\n",
    "\n",
    "print(\"Scores for AdaBoost\")\n",
    "crossValArray = cross_val_score(AdaBoost, X, y, cv=k_fold, n_jobs=1)\n",
    "print(crossValArray)\n",
    "\n",
    "MeanAdaBoost = mean(crossValArray)\n",
    "print(\"Average Accuracy: \", MeanAdaBoost*100)\n"
   ]
  },
  {
   "cell_type": "code",
   "execution_count": 1044,
   "metadata": {},
   "outputs": [
    {
     "name": "stdout",
     "output_type": "stream",
     "text": [
      "Precision Score\n",
      "0.81233975942\n"
     ]
    }
   ],
   "source": [
    "print(\"Precision Score\")\n",
    "precision = precision_score(y,Y_prediction,average='weighted')\n",
    "print(precision)"
   ]
  },
  {
   "cell_type": "code",
   "execution_count": null,
   "metadata": {
    "collapsed": true
   },
   "outputs": [],
   "source": []
  },
  {
   "cell_type": "code",
   "execution_count": 1045,
   "metadata": {},
   "outputs": [
    {
     "data": {
      "text/plain": [
       "GradientBoostingClassifier(criterion='friedman_mse', init=None,\n",
       "              learning_rate=0.4, loss='deviance', max_depth=5,\n",
       "              max_features=3, max_leaf_nodes=10, min_impurity_split=1e-07,\n",
       "              min_samples_leaf=1, min_samples_split=2,\n",
       "              min_weight_fraction_leaf=0.0, n_estimators=100,\n",
       "              presort='auto', random_state=100, subsample=1.0, verbose=0,\n",
       "              warm_start=False)"
      ]
     },
     "execution_count": 1045,
     "metadata": {},
     "output_type": "execute_result"
    }
   ],
   "source": [
    "#import Gradient Boosting Classifier from sklearn......................\n",
    "from sklearn.ensemble import GradientBoostingClassifier\n",
    "GradientBoosting = GradientBoostingClassifier(criterion='friedman_mse', learning_rate=0.4, max_depth=5,\n",
    "                                              max_features=3, max_leaf_nodes=10, random_state=100)\n",
    "GradientBoosting.fit(X,y)\n"
   ]
  },
  {
   "cell_type": "code",
   "execution_count": 1046,
   "metadata": {},
   "outputs": [
    {
     "name": "stdout",
     "output_type": "stream",
     "text": [
      "[2 2 2 ..., 2 1 3]\n"
     ]
    }
   ],
   "source": [
    "Y_prediction = GradientBoosting.predict(X)\n",
    "print(Y_prediction)"
   ]
  },
  {
   "cell_type": "code",
   "execution_count": 1047,
   "metadata": {},
   "outputs": [
    {
     "name": "stdout",
     "output_type": "stream",
     "text": [
      "Accuracy is  100.0\n"
     ]
    }
   ],
   "source": [
    "accuracy = accuracy_score(y,Y_prediction)*100\n",
    "print( \"Accuracy is \", accuracy)"
   ]
  },
  {
   "cell_type": "code",
   "execution_count": 1048,
   "metadata": {},
   "outputs": [
    {
     "name": "stdout",
     "output_type": "stream",
     "text": [
      "Scores for Gradient Boosting\n",
      "[ 0.98843931  1.          1.          1.          1.          1.\n",
      "  0.99421965  0.99421965  1.          1.        ]\n",
      "Average Accuracy:  99.7687861272\n"
     ]
    }
   ],
   "source": [
    "from sklearn.cross_validation import KFold, cross_val_score\n",
    "\n",
    "k_fold = KFold(len(X), n_folds=10, shuffle=True, random_state=100)\n",
    "\n",
    "print(\"Scores for Gradient Boosting\")\n",
    "crossValArray = cross_val_score(GradientBoosting, X, y, cv=k_fold, n_jobs=1)\n",
    "print(crossValArray)\n",
    "\n",
    "MeanGradientBoosting = mean(crossValArray)\n",
    "print(\"Average Accuracy: \", MeanGradientBoosting*100)"
   ]
  },
  {
   "cell_type": "code",
   "execution_count": 1049,
   "metadata": {},
   "outputs": [
    {
     "name": "stdout",
     "output_type": "stream",
     "text": [
      "Precision Score\n",
      "1.0\n"
     ]
    }
   ],
   "source": [
    "print(\"Precision Score\")\n",
    "precision = precision_score(y,Y_prediction,average='weighted')\n",
    "print(precision)"
   ]
  },
  {
   "cell_type": "code",
   "execution_count": null,
   "metadata": {
    "collapsed": true
   },
   "outputs": [],
   "source": []
  },
  {
   "cell_type": "code",
   "execution_count": null,
   "metadata": {
    "collapsed": true
   },
   "outputs": [],
   "source": []
  },
  {
   "cell_type": "code",
   "execution_count": 1053,
   "metadata": {},
   "outputs": [],
   "source": [
    "#Fair evaluation\n",
    "from sklearn.model_selection import KFold, cross_val_score\n",
    "numFolds = 10\n",
    "namesOfClassifiers = ['Decision Tree', 'Perceptron', 'Neural Network', 'Deep Learning', 'SVM', 'Bernoulli Naive Bayes', 'Logistic Regression', 'K-Nearest Neighbors', 'Bagging', 'Random Forest', 'AdaBoost', 'Gradient Boosting']\n",
    "classifiers = [DecisionTree, Perceptron, NeuralNet, DeepLearning, SVM, NaiveBayesBNB, LogisticRegression, \n",
    "                   KNearestNeighbors, Bagging, RandomForest, AdaBoost, GradientBoosting]\n",
    "\n",
    "k_fold = KFold( n_splits=10, shuffle=True, random_state=100)\n",
    "\n",
    "accuracy = [[] for clf in classifiers]\n",
    "precision = [[] for clf in classifiers]\n",
    "recall = [[] for clf in classifiers]\n",
    "\n",
    "for train_index, test_index in k_fold.split(X):\n",
    "        #print(\"TRAIN:\", train_index, \"TEST:\", test_index)\n",
    "        X_train, X_test = X.iloc[train_index], X.iloc[test_index]\n",
    "        y_train, y_test = y[train_index], y[test_index]\n",
    "        \n",
    "        for clf in classifiers:\n",
    "            clf.fit(X_train, y_train)\n",
    "            y_predict = clf.predict(X_test)\n",
    "    \n",
    "            accuracy[classifiers.index(clf)].append(accuracy_score(y_test, y_predict)*100)\n",
    "            precision[classifiers.index(clf)].append(precision_score(y_test, y_predict, average='weighted')*100)\n",
    "            recall[classifiers.index(clf)].append(recall_score(y_test, y_predict, average='macro')*100)\n",
    "        "
   ]
  },
  {
   "cell_type": "code",
   "execution_count": 1055,
   "metadata": {},
   "outputs": [
    {
     "name": "stdout",
     "output_type": "stream",
     "text": [
      "List of accuracies of all classifiers\n",
      "[97.685172738271262, 69.966729399112779, 96.991195053098537, 97.68349240489313, 70.429493211453149, 76.561365774969744, 69.505309853474927, 91.491463906439037, 98.437962091678983, 95.602231482726168, 85.88049469014652, 99.76878612716763]\n",
      "Gradient Boosting has the best accuracy of 99.7687861272\n"
     ]
    }
   ],
   "source": [
    "listAccuracy = []\n",
    "for accuracyClf in accuracy:\n",
    "    listAccuracy.append(mean(accuracyClf))\n",
    "\n",
    "print(\"List of accuracy of all classifiers\")    \n",
    "print(listAccuracy)    \n",
    "print(namesOfClassifiers[listAccuracy.index(max(listAccuracy))], \"has the best accuracy of\", max(listAccuracy))"
   ]
  },
  {
   "cell_type": "code",
   "execution_count": 1056,
   "metadata": {},
   "outputs": [
    {
     "name": "stdout",
     "output_type": "stream",
     "text": [
      "List of precision of all classifiers\n",
      "[97.795261253275442, 57.347392420662715, 97.10897317231948, 97.805900808985712, 52.225161413909277, 69.569616941365723, 61.353833529623934, 91.509696435189468, 98.522027536499237, 96.145063092782991, 81.530913233901245, 99.794392049487882]\n",
      "Gradient Boosting has the best precision of 99.7943920495\n"
     ]
    }
   ],
   "source": [
    "listPrecision = []\n",
    "for precisionClf in precision:\n",
    "    listPrecision.append(mean(precisionClf))\n",
    "    \n",
    "print(\"List of precision of all classifiers\")    \n",
    "print(listPrecision)    \n",
    "print(namesOfClassifiers[listPrecision.index(max(listPrecision))], \"has the best precision of\", max(listPrecision))"
   ]
  },
  {
   "cell_type": "code",
   "execution_count": null,
   "metadata": {},
   "outputs": [],
   "source": []
  }
 ],
 "metadata": {
  "kernelspec": {
   "display_name": "Python 3",
   "language": "python",
   "name": "python3"
  },
  "language_info": {
   "codemirror_mode": {
    "name": "ipython",
    "version": 3
   },
   "file_extension": ".py",
   "mimetype": "text/x-python",
   "name": "python",
   "nbconvert_exporter": "python",
   "pygments_lexer": "ipython3",
   "version": "3.6.1"
  }
 },
 "nbformat": 4,
 "nbformat_minor": 2
}
